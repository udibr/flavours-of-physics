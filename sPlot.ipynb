{
 "cells": [
  {
   "cell_type": "markdown",
   "metadata": {},
   "source": [
    "We want a test that check if the predicition probability for $\\tau$ decay has the same distribution over a real D decay and a monte carlo of a D decay "
   ]
  },
  {
   "cell_type": "code",
   "execution_count": 1,
   "metadata": {
    "collapsed": true
   },
   "outputs": [],
   "source": [
    "import numpy as np\n",
    "%matplotlib inline\n",
    "from matplotlib import pylab as plt\n",
    "import pandas as pd\n",
    "import evaluation"
   ]
  },
  {
   "cell_type": "code",
   "execution_count": 2,
   "metadata": {
    "collapsed": false
   },
   "outputs": [],
   "source": [
    "folder = '../inputs/'"
   ]
  },
  {
   "cell_type": "code",
   "execution_count": 3,
   "metadata": {
    "collapsed": false
   },
   "outputs": [],
   "source": [
    "agreement = pd.read_csv(folder + 'check_agreement.csv', index_col='id')"
   ]
  },
  {
   "cell_type": "markdown",
   "metadata": {},
   "source": [
    "The agreement is made from monte carlo of D decay and real data which is made from both signal and background of D decay"
   ]
  },
  {
   "cell_type": "code",
   "execution_count": 4,
   "metadata": {
    "collapsed": false
   },
   "outputs": [],
   "source": [
    "agreement_mc = agreement[agreement.signal == 1]\n",
    "agreement_real = agreement[agreement.signal == 0]"
   ]
  },
  {
   "cell_type": "markdown",
   "metadata": {},
   "source": [
    "We want to take our control $x$, which is in our case the predicition probability for $\\tau \\rightarrow \\mu \\mu \\mu$ decay, and accumulate it in to two histogram one for real D decay and one for simulated D decay."
   ]
  },
  {
   "cell_type": "markdown",
   "metadata": {},
   "source": [
    "For the `agreement_mc` we know that all events are signal and we should use the same weight for all of them when building the histogram. Therefore they all have the same weight."
   ]
  },
  {
   "cell_type": "code",
   "execution_count": 5,
   "metadata": {
    "collapsed": false
   },
   "outputs": [],
   "source": [
    "assert np.all(agreement_mc.weight == 1);"
   ]
  },
  {
   "cell_type": "markdown",
   "metadata": {},
   "source": [
    "But we dont know exactly which real events are D decay and which are background. Instead we will use a different weight for each event.\n",
    "High value indicates a D decay and low value a background."
   ]
  },
  {
   "cell_type": "code",
   "execution_count": 6,
   "metadata": {
    "collapsed": false
   },
   "outputs": [
    {
     "data": {
      "text/plain": [
       "<matplotlib.axes._subplots.AxesSubplot at 0x1146ecfd0>"
      ]
     },
     "execution_count": 6,
     "metadata": {},
     "output_type": "execute_result"
    },
    {
     "data": {
      "image/png": "[encoded data removed]",
      "text/plain": [
       "<matplotlib.figure.Figure at 0x1146ecb10>"
      ]
     },
     "metadata": {},
     "output_type": "display_data"
    }
   ],
   "source": [
    "agreement_real.weight.hist(bins=50)"
   ]
  },
  {
   "cell_type": "markdown",
   "metadata": {},
   "source": [
    "The weights are computed by using the mass of the particle as the discriminating variable to tell if an event is a D decay or background and the weights are computed using [sPlot](http://arxiv.org/abs/physics/0402083):"
   ]
  },
  {
   "cell_type": "markdown",
   "metadata": {},
   "source": [
    "for $N$ real events, with mass $y_e$ ($e=1 \\ldots N$),\n",
    "assume you know the mass distribution for background $f_1$ and D decay $f_2$.\n",
    "\n",
    "Use maximium liklihood to find the yield or the expected number of background $N_1$ and D decay $N_2$ events.\n",
    "\n",
    "$\\mathcal{L} = \\sum_{e=1}^N \\log\\{{\\sum_{i=1}^{N_s} N_i f_i(y_e)}\\}  - \\sum_{i=1}^{N_s} N_i$\n",
    "\n",
    "(there are only two species, $N_s = 2$, in our case.)\n",
    "\n",
    "The naive weight would have been:\n",
    "\n",
    "$\\mathcal{P}_n(y_e) = \\frac{N_n f_n(y_e)}{\\sum_{k=1}^{N_s} N_k f_k(y_e)}$\n",
    "\n",
    "(in our case we are interested in building a histogram for the D decay events, so $n = 2$.)\n",
    "\n",
    "But the correct weight uses the expected covariance matrix $\\textbf{V}$ \n",
    "\n",
    "$\\textbf{V}_{nj}^{-1} = \\sum_{e=1}^N \\frac{f_n(y_e) f_j(y_e)}{(\\sum_{k=1}^{N_s} {N_k f_k(y_e)})^2}$ \n",
    "\n",
    "and the correct weights (called *sWeight*) are computed as follows\n",
    "\n",
    "$_{s}\\mathcal{P}_n(y_e) = \\frac{\\sum_{j=1}^{N_s} \\textbf{V}_{nj} f_j(y_e)}{\\sum_{k=1}^{N_s} N_k f_k(y_e)}$\n",
    "\n"
   ]
  },
  {
   "cell_type": "markdown",
   "metadata": {},
   "source": [
    "## Example"
   ]
  },
  {
   "cell_type": "markdown",
   "metadata": {},
   "source": [
    "As an example showing how the weights were computed lets use a set of imaginary values that looks more or less close to what the admin used to compute their weights"
   ]
  },
  {
   "cell_type": "markdown",
   "metadata": {},
   "source": [
    "Lets skip the maximium liklihood step and assume we know how many decay (N2) and background (N1) events are in the real data"
   ]
  },
  {
   "cell_type": "code",
   "execution_count": 7,
   "metadata": {
    "collapsed": false
   },
   "outputs": [
    {
     "data": {
      "text/plain": [
       "(322942, 274500, 48442)"
      ]
     },
     "execution_count": 7,
     "metadata": {},
     "output_type": "execute_result"
    }
   ],
   "source": [
    "N = len(agreement_real)\n",
    "N1f = 0.85\n",
    "N1 = int(N1f*N)\n",
    "N2 = N - N1\n",
    "N,N1,N2"
   ]
  },
  {
   "cell_type": "markdown",
   "metadata": {},
   "source": [
    "We need to know in advance the mass distribution of decay (f2) and background (f1) events."
   ]
  },
  {
   "cell_type": "markdown",
   "metadata": {},
   "source": [
    "The decay has a normal mass distribution with a mean and std:"
   ]
  },
  {
   "cell_type": "code",
   "execution_count": 8,
   "metadata": {
    "collapsed": false
   },
   "outputs": [],
   "source": [
    "D_mean = 3852*0.511\n",
    "D_std = 8.233"
   ]
  },
  {
   "cell_type": "markdown",
   "metadata": {},
   "source": [
    "The background is uniformaly distributed over 4 sigma to two sides of mean with a dip over 2.43 sigma. The dip falls by 22%"
   ]
  },
  {
   "cell_type": "code",
   "execution_count": 9,
   "metadata": {
    "collapsed": false
   },
   "outputs": [],
   "source": [
    "R = 4\n",
    "xmin = D_mean - R* D_std\n",
    "xmax = D_mean + R*D_std\n",
    "Range = xmax-xmin\n",
    "BW = 2.43 * D_std\n",
    "pdip = 0.22"
   ]
  },
  {
   "cell_type": "markdown",
   "metadata": {},
   "source": [
    "simulate decay events"
   ]
  },
  {
   "cell_type": "code",
   "execution_count": 10,
   "metadata": {
    "collapsed": true
   },
   "outputs": [],
   "source": [
    "Dsignal = np.random.normal(D_mean,D_std,N2)"
   ]
  },
  {
   "cell_type": "markdown",
   "metadata": {},
   "source": [
    "simulate background events"
   ]
  },
  {
   "cell_type": "code",
   "execution_count": 11,
   "metadata": {
    "collapsed": false
   },
   "outputs": [],
   "source": [
    "Dbackground_above = (Range/2. - BW)  * np.random.random(N1) + BW + D_mean\n",
    "Dbackground_below = D_mean - (Range/2. - BW)  * np.random.random(N1) - BW\n",
    "Dbackground_out = np.choose(np.random.random(N1) < 0.5,[Dbackground_below, Dbackground_above])\n",
    "# Dbackground_in = BW * (2. * (np.random.random(N1)-0.5)) + D_mean\n",
    "# Dbackground = np.choose(np.random.random(N1) < pdip,[Dbackground_out, Dbackground_in])\n",
    "Dbackground_norm = np.random.normal(0.,D_std,N1)\n",
    "Dbackground_norm = np.choose(Dbackground_norm < 0.,\n",
    "                             [Dbackground_norm + D_mean - BW,\n",
    "                              D_mean + BW + Dbackground_norm])\n",
    "Dbackground_flat = 2.*BW * np.random.random(N1) - BW + D_mean\n",
    "Dbackground_in = np.choose(np.random.random(N1) < pdip,[Dbackground_flat, Dbackground_norm])\n",
    "\n",
    "# at +/- BW the pdf from the left is S=1./(Range - 2.*BW)\n",
    "# from the right it is U = (1-pdif)/(2.*BW) + pdif*stats.norm(0, D_std).pdf(0)\n",
    "# We want S*Q = U*(1-Q)\n",
    "\n",
    "U = (1-pdip)/(2.*BW) + pdip / (np.sqrt(2.*np.pi)*D_std)\n",
    "S = 1./(Range - 2.*BW)\n",
    "Q = U / (S + U)\n",
    "\n",
    "Dbackground = np.choose(np.random.random(N1) > Q ,[Dbackground_out, Dbackground_in])"
   ]
  },
  {
   "cell_type": "code",
   "execution_count": 12,
   "metadata": {
    "collapsed": true
   },
   "outputs": [],
   "source": [
    "def f_f1(y):\n",
    "    n = len(y)\n",
    "    r = (1.-pdip)/(2.*BW)\n",
    "    r += pdip * np.choose(y < D_mean + BW, [0.,stats.norm(D_mean+BW, D_std).pdf(y)])\n",
    "    r += pdip * np.choose(y > D_mean - BW, [0.,stats.norm(D_mean-BW, D_std).pdf(y)])\n",
    "    r = np.choose(np.abs(y - D_mean) > BW, [(1-Q)*r, Q/(Range - 2.*BW)])\n",
    "    return r"
   ]
  },
  {
   "cell_type": "code",
   "execution_count": 13,
   "metadata": {
    "collapsed": false
   },
   "outputs": [
    {
     "data": {
      "image/png": "[encoded data removed]",
      "text/plain": [
       "<matplotlib.figure.Figure at 0x104301410>"
      ]
     },
     "metadata": {},
     "output_type": "display_data"
    }
   ],
   "source": [
    "from scipy import stats\n",
    "B = 200\n",
    "support = np.linspace(xmin, xmax, B)\n",
    "plt.hist(Dsignal, bins=B, label='f2')\n",
    "plt.hist(Dbackground, bins=B, label='f1',alpha=0.5)\n",
    "plt.plot(support,Range/B * N1*f_f1(support))\n",
    "plt.legend(loc='upper left')\n",
    "plt.gca().set_xlim((xmin, xmax));"
   ]
  },
  {
   "cell_type": "markdown",
   "metadata": {},
   "source": [
    "compute weights of the simulated decay and background events"
   ]
  },
  {
   "cell_type": "code",
   "execution_count": 14,
   "metadata": {
    "collapsed": false
   },
   "outputs": [],
   "source": [
    "Vinv = 0\n",
    "y = np.concatenate((Dbackground, Dsignal))\n",
    "f1 = f_f1(y)\n",
    "f2 = stats.norm(D_mean, D_std).pdf(y)"
   ]
  },
  {
   "cell_type": "code",
   "execution_count": 15,
   "metadata": {
    "collapsed": false
   },
   "outputs": [
    {
     "data": {
      "text/plain": [
       "((322942,), (322942,), (322942,))"
      ]
     },
     "execution_count": 15,
     "metadata": {},
     "output_type": "execute_result"
    }
   ],
   "source": [
    "Z = N1 * f1 + N2 * f2\n",
    "Z.shape,f1.shape,f2.shape"
   ]
  },
  {
   "cell_type": "code",
   "execution_count": 16,
   "metadata": {
    "collapsed": false
   },
   "outputs": [],
   "source": [
    "Vinv = np.array([[f1/Z * f1/Z, f1/Z * f2/Z],[f1/Z * f2/Z, f2/Z*f2/Z]]).sum(axis=-1)"
   ]
  },
  {
   "cell_type": "code",
   "execution_count": 17,
   "metadata": {
    "collapsed": false
   },
   "outputs": [
    {
     "data": {
      "text/plain": [
       "array([[ 447277.39773022, -172968.11093382],\n",
       "       [-172968.11093382,  221600.99413516]])"
      ]
     },
     "execution_count": 17,
     "metadata": {},
     "output_type": "execute_result"
    }
   ],
   "source": [
    "V = np.linalg.inv(Vinv)\n",
    "V"
   ]
  },
  {
   "cell_type": "code",
   "execution_count": 18,
   "metadata": {
    "collapsed": false
   },
   "outputs": [
    {
     "data": {
      "text/plain": [
       "(2, 322942)"
      ]
     },
     "execution_count": 18,
     "metadata": {},
     "output_type": "execute_result"
    }
   ],
   "source": [
    "sW = np.dot(V, np.array([f1, f2])) / Z\n",
    "sW.shape"
   ]
  },
  {
   "cell_type": "markdown",
   "metadata": {},
   "source": [
    "generate a histogram of the decay weights from the simulated decay and background events and compare it with the histogram the weights given by the admin "
   ]
  },
  {
   "cell_type": "code",
   "execution_count": 19,
   "metadata": {
    "collapsed": false
   },
   "outputs": [
    {
     "data": {
      "text/plain": [
       "<matplotlib.legend.Legend at 0x116dbb7d0>"
      ]
     },
     "execution_count": 19,
     "metadata": {},
     "output_type": "execute_result"
    },
    {
     "data": {
      "image/png": "[encoded data removed]",
      "text/plain": [
       "<matplotlib.figure.Figure at 0x114be0250>"
      ]
     },
     "metadata": {},
     "output_type": "display_data"
    }
   ],
   "source": [
    "agreement_real.weight.hist(bins=50, label='real')\n",
    "plt.hist(sW[1,:], label='example',bins=50,alpha=0.5)\n",
    "plt.legend(loc='upper right')"
   ]
  },
  {
   "cell_type": "markdown",
   "metadata": {},
   "source": [
    "compute the sPlot weights from f1 and f2 for signal and background over a range of linear spacing (support) of masses"
   ]
  },
  {
   "cell_type": "code",
   "execution_count": 20,
   "metadata": {
    "collapsed": true
   },
   "outputs": [],
   "source": [
    "N_support = len(support)\n",
    "f1_support = f_f1(support)\n",
    "f2_support = stats.norm(D_mean, D_std).pdf(support)"
   ]
  },
  {
   "cell_type": "code",
   "execution_count": 21,
   "metadata": {
    "collapsed": false
   },
   "outputs": [
    {
     "data": {
      "text/plain": [
       "(200,)"
      ]
     },
     "execution_count": 21,
     "metadata": {},
     "output_type": "execute_result"
    }
   ],
   "source": [
    "Z_support = N1 * f1_support + N2 * f2_support\n",
    "Z_support.shape"
   ]
  },
  {
   "cell_type": "code",
   "execution_count": 22,
   "metadata": {
    "collapsed": false
   },
   "outputs": [
    {
     "data": {
      "text/plain": [
       "(2, 200)"
      ]
     },
     "execution_count": 22,
     "metadata": {},
     "output_type": "execute_result"
    }
   ],
   "source": [
    "sW_support = np.dot(V, np.array([f1_support, f2_support])) / Z_support\n",
    "sW_support.shape"
   ]
  },
  {
   "cell_type": "code",
   "execution_count": 23,
   "metadata": {
    "collapsed": false
   },
   "outputs": [
    {
     "data": {
      "text/plain": [
       "(1935.44, 2001.304)"
      ]
     },
     "execution_count": 23,
     "metadata": {},
     "output_type": "execute_result"
    },
    {
     "data": {
      "image/png": "[encoded data removed]",
      "text/plain": [
       "<matplotlib.figure.Figure at 0x114f1f210>"
      ]
     },
     "metadata": {},
     "output_type": "display_data"
    }
   ],
   "source": [
    "plt.plot(support,sW_support[0,:], label='background')\n",
    "plt.plot(support,sW_support[1,:], label='signal')\n",
    "plt.legend(loc='upper left')\n",
    "plt.title('sPlot weights')\n",
    "plt.gca().set_xlim((xmin, xmax))"
   ]
  }
 ],
 "metadata": {
  "kernelspec": {
   "display_name": "Python 2",
   "language": "python",
   "name": "python2"
  },
  "language_info": {
   "codemirror_mode": {
    "name": "ipython",
    "version": 2
   },
   "file_extension": ".py",
   "mimetype": "text/x-python",
   "name": "python",
   "nbconvert_exporter": "python",
   "pygments_lexer": "ipython2",
   "version": "2.7.10"
  }
 },
 "nbformat": 4,
 "nbformat_minor": 0
}
